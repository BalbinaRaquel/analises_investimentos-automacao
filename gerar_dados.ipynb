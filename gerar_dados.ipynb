{
 "cells": [
  {
   "cell_type": "code",
   "execution_count": 1,
   "id": "5e08aff8",
   "metadata": {},
   "outputs": [],
   "source": [
    "import yfinance as yf\n",
    "\n",
    "\n",
    "\n"
   ]
  },
  {
   "cell_type": "code",
   "execution_count": 2,
   "id": "4e193a88",
   "metadata": {},
   "outputs": [],
   "source": [
    "def gerar_arquivo_excel(codigo_acao, dt_inicial, dt_final):\n",
    "    dados = yf.download(codigo_acao, start=dt_inicial, end=dt_final)\n",
    "    nome_arquivo = f\"{codigo_acao}_{dt_inicial}_{dt_final}.xlsx\"\n",
    "    dados.to_excel(nome_arquivo)\n",
    "    print(f\"\\nArquivo {nome_arquivo} gerado com sucesso!\")"
   ]
  },
  {
   "cell_type": "code",
   "execution_count": 3,
   "id": "79b0dc32",
   "metadata": {},
   "outputs": [
    {
     "name": "stdout",
     "output_type": "stream",
     "text": [
      "Seja bem vindo ao Gerador de Arquivo Excel!\n",
      "-------------------------------------------\n",
      "YF.download() has changed argument auto_adjust default to True\n"
     ]
    },
    {
     "name": "stderr",
     "output_type": "stream",
     "text": [
      "[*********************100%***********************]  1 of 1 completed\n"
     ]
    },
    {
     "name": "stdout",
     "output_type": "stream",
     "text": [
      "\n",
      "Arquivo PETR4.SA_2022-01-01_2023-01-01.xlsx gerado com sucesso!\n"
     ]
    }
   ],
   "source": [
    "print('Seja bem vindo ao Gerador de Arquivo Excel!')\n",
    "print(\"-------------------------------------------\")\n",
    "codigo_acao = input(\"Digite o código da ação: \")\n",
    "dt_inicial = input(\"Digite a data inicial (AAAA-MM-DD): \")\n",
    "dt_final = input(\"Digite a data final (AAAA-MM-DD): \")\n",
    "\n",
    "gerar_arquivo_excel(codigo_acao, dt_inicial, dt_final)"
   ]
  }
 ],
 "metadata": {
  "kernelspec": {
   "display_name": "base",
   "language": "python",
   "name": "python3"
  },
  "language_info": {
   "codemirror_mode": {
    "name": "ipython",
    "version": 3
   },
   "file_extension": ".py",
   "mimetype": "text/x-python",
   "name": "python",
   "nbconvert_exporter": "python",
   "pygments_lexer": "ipython3",
   "version": "3.12.7"
  }
 },
 "nbformat": 4,
 "nbformat_minor": 5
}
