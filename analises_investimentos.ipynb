{
 "cells": [
  {
   "cell_type": "markdown",
   "id": "a1c18e9f",
   "metadata": {},
   "source": [
    "<h2 style=\"color: #1E90FF\">Projeto: Análises de dados de ações de forma automática</h2>"
   ]
  },
  {
   "cell_type": "markdown",
   "id": "8eed2658",
   "metadata": {},
   "source": [
    "<h3 style=\"color: #00BFFF\">Utilizando o Yahoo Finanças?</h3>\n",
    "\n",
    "- Site que fornece notícias sobre finanças, incluindo **cotações de ações**.\n",
    "- Link: [https://br.financas.yahoo.com/](https://br.financas.yahoo.com/)"
   ]
  },
  {
   "cell_type": "markdown",
   "id": "026f357d",
   "metadata": {},
   "source": [
    "<h3 style=\"color: #00BFFF\">Etapas do Projeto:</h3>\n",
    "\n",
    "1. Definição do projeto e Instalação de Bibliotecas;\n",
    "2. Pesquisa e Captur dos dados de cotações de ações;\n",
    "3. Configuração do Período;\n",
    "4. Filtros e seleção de dados necessários;\n",
    "5. Geração de Gráficos;\n",
    "6. Geração de Estatísticas;\n",
    "7. Envio automático de E-mails com dados;\n"
   ]
  },
  {
   "cell_type": "markdown",
   "id": "a1e15535",
   "metadata": {},
   "source": [
    "<h3 style=\"color: #6495ED\">1. Definição do projeto e Instalação de Bibliotecas</h3>\n"
   ]
  },
  {
   "cell_type": "markdown",
   "id": "11134f10",
   "metadata": {},
   "source": [
    "### Cenário:\n",
    "Empresa de investimentos precisa de dados de ações atualizados e envio de e-mails constantes com essas informações\n",
    "\n",
    "### Objetivo:\n",
    "-> Enviar E-mails diariamente com análise das cotações de ações pré-determinadas pela empresa."
   ]
  },
  {
   "cell_type": "code",
   "execution_count": null,
   "id": "73a816ac",
   "metadata": {},
   "outputs": [],
   "source": []
  },
  {
   "cell_type": "code",
   "execution_count": null,
   "id": "0b5a0fe1",
   "metadata": {},
   "outputs": [],
   "source": []
  },
  {
   "cell_type": "markdown",
   "id": "9704a435",
   "metadata": {},
   "source": [
    "<h3 style=\"color: #6495ED\">2. Pesquisa e Captur dos dados de cotações de ações</h3>"
   ]
  },
  {
   "cell_type": "code",
   "execution_count": null,
   "id": "5e7b0506",
   "metadata": {},
   "outputs": [],
   "source": []
  },
  {
   "cell_type": "code",
   "execution_count": null,
   "id": "1db5c4bb",
   "metadata": {},
   "outputs": [],
   "source": []
  },
  {
   "cell_type": "markdown",
   "id": "0fefa0a9",
   "metadata": {},
   "source": []
  }
 ],
 "metadata": {
  "language_info": {
   "name": "python"
  }
 },
 "nbformat": 4,
 "nbformat_minor": 5
}
